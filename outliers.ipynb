{
 "cells": [
  {
   "cell_type": "markdown",
   "id": "3ff0d158",
   "metadata": {},
   "source": [
    "# What is an outlier?\n",
    "An outlier is a data point in a data set that is distant from all other observations. A data point that lies outside the overall distribution of the dataset"
   ]
  },
  {
   "cell_type": "code",
   "execution_count": 1,
   "id": "a99f8770",
   "metadata": {},
   "outputs": [],
   "source": [
    "import numpy as np\n",
    "import matplotlib.pyplot as plt\n",
    "%matplotlib inline"
   ]
  },
  {
   "cell_type": "markdown",
   "id": "b7fbda2e",
   "metadata": {},
   "source": [
    "# What are the criteria to identify an outlier?\n",
    "1. Data point that falls outside of 1.5 times of an interquartile range above the 3rd quartile and below the 1st quartile\n",
    "2. Data point that falls outside of 3 standard deviations. we can use a z score and if the z score falls outside of 2 standard deviation\n",
    "\n",
    "# What is the reason for an outlier to exists in a dataset?\n",
    "1. Variability in the data\n",
    "2. An experimental measurement error\n",
    "\n",
    "# What are the impacts of having outliers in a dataset?\n",
    "1. It causes various problems during our statistical analysis\n",
    "2. It may cause a significant impact on the mean and the standard deviation\n",
    "\n",
    "# Various ways of finding the outlier.\n",
    "1. Box plot\n",
    "2. using z score\n",
    "3. using the IQR interquantile range\n",
    "4. Using scatter plots"
   ]
  },
  {
   "cell_type": "code",
   "execution_count": 61,
   "id": "86f4f12e",
   "metadata": {},
   "outputs": [],
   "source": [
    "dataset= [11,10,12,14,12,15,14,13,15,102,12,14,17,19,107, 10,13,12,14,12,108,12,11,14,13,15,10,15,12,10,14,13,15,10,110,111]"
   ]
  },
  {
   "cell_type": "markdown",
   "id": "18b3d52b",
   "metadata": {},
   "source": [
    "# Detecting outlier using Z score\n",
    "## Using Z score\n",
    "Formula for Z score = (Observation — Mean)/Standard Deviation\n",
    "\n",
    "z = (X — μ) / σ"
   ]
  },
  {
   "cell_type": "code",
   "execution_count": 71,
   "id": "8688fe67",
   "metadata": {},
   "outputs": [],
   "source": [
    "outliers=[]\n",
    "\n",
    "def detect_outliers(data):\n",
    "    \n",
    "    threshold=2\n",
    "    mean=np.mean(data)\n",
    "    std=np.std(data)\n",
    "    \n",
    "    for i in data:\n",
    "        z_score=(i-mean)/std\n",
    "        if np.abs(z_score)>threshold:\n",
    "            outliers.append(i)\n",
    "    \n",
    "    return outliers\n",
    "     "
   ]
  },
  {
   "cell_type": "code",
   "execution_count": 72,
   "id": "f4dfe315",
   "metadata": {},
   "outputs": [],
   "source": [
    "outlier_pt=detect_outliers(dataset)"
   ]
  },
  {
   "cell_type": "code",
   "execution_count": 73,
   "id": "1ff628ce",
   "metadata": {},
   "outputs": [
    {
     "data": {
      "text/plain": [
       "[102, 107, 108, 110, 111]"
      ]
     },
     "execution_count": 73,
     "metadata": {},
     "output_type": "execute_result"
    }
   ],
   "source": [
    "outlier_pt"
   ]
  },
  {
   "cell_type": "markdown",
   "id": "b7b6d122",
   "metadata": {},
   "source": [
    "# Using box plot"
   ]
  },
  {
   "cell_type": "code",
   "execution_count": 134,
   "id": "f732192f",
   "metadata": {},
   "outputs": [
    {
     "data": {
      "text/plain": [
       "{'whiskers': [<matplotlib.lines.Line2D at 0x256e48a0a30>,\n",
       "  <matplotlib.lines.Line2D at 0x256e48a0d00>],\n",
       " 'caps': [<matplotlib.lines.Line2D at 0x256e48a0fd0>,\n",
       "  <matplotlib.lines.Line2D at 0x256e48aa2e0>],\n",
       " 'boxes': [<matplotlib.lines.Line2D at 0x256e48a0850>],\n",
       " 'medians': [<matplotlib.lines.Line2D at 0x256e48aa5b0>],\n",
       " 'fliers': [<matplotlib.lines.Line2D at 0x256e48aa880>],\n",
       " 'means': []}"
      ]
     },
     "execution_count": 134,
     "metadata": {},
     "output_type": "execute_result"
    },
    {
     "data": {
      "image/png": "[encoded data removed]",
      "text/plain": [
       "<Figure size 432x288 with 1 Axes>"
      ]
     },
     "metadata": {
      "needs_background": "light"
     },
     "output_type": "display_data"
    }
   ],
   "source": [
    "plt.boxplot(dataset,vert=False,widths=20)"
   ]
  },
  {
   "cell_type": "markdown",
   "id": "15530894",
   "metadata": {},
   "source": [
    "# InterQuantile Range\n",
    "75%- 25% values in a dataset\n",
    "\n",
    "Steps\n",
    "1. Arrange the data in increasing order\n",
    "2. Calculate first(q1) and third quartile(q3)\n",
    "3. Find interquartile range (q3-q1)\n",
    "4.Find lower bound q1*1.5\n",
    "5.Find upper bound q3*1.5\n",
    "Anything that lies outside of lower and upper bound is an outlier\n",
    "\n"
   ]
  },
  {
   "cell_type": "code",
   "execution_count": 75,
   "id": "db898b06",
   "metadata": {},
   "outputs": [
    {
     "data": {
      "text/plain": [
       "[10,\n",
       " 10,\n",
       " 10,\n",
       " 10,\n",
       " 10,\n",
       " 11,\n",
       " 11,\n",
       " 12,\n",
       " 12,\n",
       " 12,\n",
       " 12,\n",
       " 12,\n",
       " 12,\n",
       " 12,\n",
       " 13,\n",
       " 13,\n",
       " 13,\n",
       " 13,\n",
       " 14,\n",
       " 14,\n",
       " 14,\n",
       " 14,\n",
       " 14,\n",
       " 14,\n",
       " 15,\n",
       " 15,\n",
       " 15,\n",
       " 15,\n",
       " 15,\n",
       " 17,\n",
       " 19,\n",
       " 102,\n",
       " 107,\n",
       " 108,\n",
       " 110,\n",
       " 111]"
      ]
     },
     "execution_count": 75,
     "metadata": {},
     "output_type": "execute_result"
    }
   ],
   "source": [
    "sorted(dataset)"
   ]
  },
  {
   "cell_type": "code",
   "execution_count": 87,
   "id": "cbfa238b",
   "metadata": {},
   "outputs": [],
   "source": [
    "quantile_1, quantile_3=np.percentile(dataset,[25,75])"
   ]
  },
  {
   "cell_type": "code",
   "execution_count": 88,
   "id": "ae24e407",
   "metadata": {},
   "outputs": [
    {
     "data": {
      "text/plain": [
       "(12.0, 15.0)"
      ]
     },
     "execution_count": 88,
     "metadata": {},
     "output_type": "execute_result"
    }
   ],
   "source": [
    "quantile_1, quantile_3\n"
   ]
  },
  {
   "cell_type": "code",
   "execution_count": 89,
   "id": "32a8ebd4",
   "metadata": {},
   "outputs": [],
   "source": [
    "IQR=quantile_3 - quantile_1"
   ]
  },
  {
   "cell_type": "code",
   "execution_count": 90,
   "id": "e8802cc7",
   "metadata": {},
   "outputs": [
    {
     "data": {
      "text/plain": [
       "3.0"
      ]
     },
     "execution_count": 90,
     "metadata": {},
     "output_type": "execute_result"
    }
   ],
   "source": [
    "IQR"
   ]
  },
  {
   "cell_type": "code",
   "execution_count": 91,
   "id": "1b3c96d1",
   "metadata": {},
   "outputs": [],
   "source": [
    "lower_fence=quantile_1 - (1.5*IQR)"
   ]
  },
  {
   "cell_type": "code",
   "execution_count": 92,
   "id": "56118f35",
   "metadata": {},
   "outputs": [
    {
     "data": {
      "text/plain": [
       "7.5"
      ]
     },
     "execution_count": 92,
     "metadata": {},
     "output_type": "execute_result"
    }
   ],
   "source": [
    "lower_fence"
   ]
  },
  {
   "cell_type": "code",
   "execution_count": 93,
   "id": "bc6ea97a",
   "metadata": {},
   "outputs": [],
   "source": [
    "upper_fence=quantile_3 + (1.5*IQR)"
   ]
  },
  {
   "cell_type": "code",
   "execution_count": 94,
   "id": "d1be4c8b",
   "metadata": {},
   "outputs": [
    {
     "data": {
      "text/plain": [
       "19.5"
      ]
     },
     "execution_count": 94,
     "metadata": {},
     "output_type": "execute_result"
    }
   ],
   "source": [
    "upper_fence"
   ]
  },
  {
   "cell_type": "code",
   "execution_count": 115,
   "id": "67228bf0",
   "metadata": {},
   "outputs": [],
   "source": [
    "outliers=[]\n",
    "for i in dataset:\n",
    "    \n",
    "    if (i < lower_fence or i > upper_fence):\n",
    "        outliers.append(i)\n",
    "    \n",
    "\n",
    "    "
   ]
  },
  {
   "cell_type": "code",
   "execution_count": 116,
   "id": "6d05c4b7",
   "metadata": {},
   "outputs": [
    {
     "data": {
      "text/plain": [
       "[102, 107, 108, 110, 111]"
      ]
     },
     "execution_count": 116,
     "metadata": {},
     "output_type": "execute_result"
    }
   ],
   "source": [
    "outliers"
   ]
  },
  {
   "cell_type": "code",
   "execution_count": null,
   "id": "f650d185",
   "metadata": {},
   "outputs": [],
   "source": []
  }
 ],
 "metadata": {
  "kernelspec": {
   "display_name": "Python 3 (ipykernel)",
   "language": "python",
   "name": "python3"
  },
  "language_info": {
   "codemirror_mode": {
    "name": "ipython",
    "version": 3
   },
   "file_extension": ".py",
   "mimetype": "text/x-python",
   "name": "python",
   "nbconvert_exporter": "python",
   "pygments_lexer": "ipython3",
   "version": "3.9.12"
  }
 },
 "nbformat": 4,
 "nbformat_minor": 5
}
